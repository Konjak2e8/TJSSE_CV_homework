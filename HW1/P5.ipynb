{
 "cells": [
  {
   "cell_type": "code",
   "execution_count": 7,
   "metadata": {},
   "outputs": [],
   "source": [
    "import cv2\n",
    "import numpy as np\n",
    "\n",
    "filepath_left = \"img/img1.jpg\"\n",
    "filepath_right = \"img/img2.jpg\""
   ]
  },
  {
   "cell_type": "code",
   "execution_count": 8,
   "metadata": {},
   "outputs": [],
   "source": [
    "image1 = cv2.imread(filepath_left)\n",
    "image2 = cv2.imread(filepath_right)\n",
    "\n",
    "# 统一图片尺寸\n",
    "height, width, _ = image1.shape\n",
    "# image2 = cv2.resize(image2, (width, height))\n",
    "\n",
    "# 转换图像为灰度图\n",
    "gray1 = cv2.cvtColor(image1, cv2.COLOR_BGR2GRAY)\n",
    "gray2 = cv2.cvtColor(image2, cv2.COLOR_BGR2GRAY)"
   ]
  },
  {
   "cell_type": "code",
   "execution_count": 9,
   "metadata": {},
   "outputs": [],
   "source": [
    "# 创建SIFT检测器\n",
    "sift = cv2.SIFT_create()\n",
    "\n",
    "# 寻找关键点和SIFT描述子\n",
    "keypoints1, descriptors1 = sift.detectAndCompute(gray1, None)\n",
    "keypoints2, descriptors2 = sift.detectAndCompute(gray2, None)\n",
    "\n",
    "# 使用Brute Force匹配器进行特征匹配\n",
    "bf = cv2.BFMatcher()\n",
    "matches = bf.knnMatch(descriptors1, descriptors2, k=2)\n",
    "\n",
    "# 进行比率测试以剔除不好的匹配\n",
    "good_matches = []\n",
    "for m, n in matches:\n",
    "    if m.distance < 0.7 * n.distance:\n",
    "        good_matches.append(m)\n",
    "\n",
    "# 如果匹配点数不足，拼接可能会失败\n",
    "if len(good_matches) > 5:\n",
    "    src_pts = np.float32([keypoints1[m.queryIdx].pt for m in good_matches]).reshape(-1, 1, 2)\n",
    "    dst_pts = np.float32([keypoints2[m.trainIdx].pt for m in good_matches]).reshape(-1, 1, 2)\n",
    "\n",
    "    # 获取两张图之间的特征点匹配\n",
    "    matches_image = cv2.drawMatches(image1, keypoints1, image2, keypoints2, good_matches, None, flags=cv2.DrawMatchesFlags_NOT_DRAW_SINGLE_POINTS)\n",
    "\n",
    "    # 保存匹配结果\n",
    "    cv2.imwrite('img/match.jpg', matches_image)\n",
    "\n",
    "    # 使用RANSAC算法估计透视变换矩阵\n",
    "    M, mask = cv2.findHomography(src_pts, dst_pts, cv2.RANSAC, 5.0)\n",
    "\n",
    "    # 获取第一个图像的高度和宽度\n",
    "    h1, w1 = gray1.shape\n",
    "\n",
    "    # 将第一个图像映射到第二个图像上\n",
    "    result = cv2.warpPerspective(image1, M, (w1 + image2.shape[0], h1 + image2.shape[1]))\n",
    "\n",
    "    # 将第二个图像添加到结果图像中\n",
    "    result[0:image2.shape[0], 0:image2.shape[1]] = image2\n",
    "\n",
    "    # 保存拼接结果\n",
    "    cv2.imwrite('img/Panorama.jpg', result)\n",
    "\n",
    "else:\n",
    "    print(\"No enough good matches to create a panorama.\")"
   ]
  }
 ],
 "metadata": {
  "kernelspec": {
   "display_name": "pybase",
   "language": "python",
   "name": "python3"
  },
  "language_info": {
   "codemirror_mode": {
    "name": "ipython",
    "version": 3
   },
   "file_extension": ".py",
   "mimetype": "text/x-python",
   "name": "python",
   "nbconvert_exporter": "python",
   "pygments_lexer": "ipython3",
   "version": "3.10.13"
  }
 },
 "nbformat": 4,
 "nbformat_minor": 2
}
