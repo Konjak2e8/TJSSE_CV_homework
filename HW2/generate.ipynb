{
 "cells": [
  {
   "cell_type": "code",
   "execution_count": 1,
   "metadata": {},
   "outputs": [],
   "source": [
    "fx, fy = [3.389493144976616e+03,3.411201420136055e+03]\n",
    "cx, cy = [2.094417486585312e+03,1.554368615004437e+03]\n",
    "k1, k2, k3 = [-0.002976389071458,-0.128909538948301,0.583621160600955]\n",
    "p1, p2 = [4.152852855014111e-04,0.004612695758181]"
   ]
  },
  {
   "cell_type": "code",
   "execution_count": 25,
   "metadata": {},
   "outputs": [],
   "source": [
    "import cv2\n",
    "import numpy as np\n",
    "\n",
    "\n",
    "x_W = []\n",
    "for i in range (0, 450, 50):\n",
    "    for j in range (0, 300, 50):\n",
    "        x_W.append((i + 2000, -j + 1000))\n",
    "\n",
    "x_W = np.array(x_W, dtype=np.float32)\n",
    "# print(x_W)\n",
    "\n",
    "I_d = cv2.imread('wall_image.jpg')\n",
    "\n",
    "K = np.array([[fx, 0, cx], [0, fy, cy], [0, 0, 1]])\n",
    "D = np.array([k1, k2, p1, p2, k3])\n",
    "\n",
    "I_undistorted = cv2.undistort(I_d, K, D)\n",
    "\n",
    "_, x_I = cv2.findChessboardCorners(I_undistorted, (6, 9))\n",
    "\n",
    "# print(x_I)\n",
    "\n",
    "x_I = np.reshape(x_I, (54, 2))\n",
    "\n",
    "homography_matrix, _ = cv2.findHomography(x_I, x_W)\n",
    "\n",
    "height, width = I_undistorted.shape[:2]\n",
    "I_birdseye = cv2.warpPerspective(I_undistorted, homography_matrix, (width, height))\n",
    "\n",
    "# cv2.imshow('Original Image', I_d)\n",
    "cv2.imwrite('undistorted.jpg', I_undistorted)\n",
    "cv2.imwrite('bird-eye-view.jpg', I_birdseye)\n",
    "cv2.waitKey(0)\n",
    "cv2.destroyAllWindows()"
   ]
  }
 ],
 "metadata": {
  "kernelspec": {
   "display_name": "pybase",
   "language": "python",
   "name": "python3"
  },
  "language_info": {
   "codemirror_mode": {
    "name": "ipython",
    "version": 3
   },
   "file_extension": ".py",
   "mimetype": "text/x-python",
   "name": "python",
   "nbconvert_exporter": "python",
   "pygments_lexer": "ipython3",
   "version": "3.10.13"
  }
 },
 "nbformat": 4,
 "nbformat_minor": 2
}
